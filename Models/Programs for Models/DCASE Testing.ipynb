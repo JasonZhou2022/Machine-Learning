{
 "cells": [
  {
   "cell_type": "code",
   "execution_count": 1,
   "id": "683a783e",
   "metadata": {},
   "outputs": [],
   "source": [
    "import numpy as np\n",
    "\n",
    "import torch\n",
    "import torchvision\n",
    "import torch.optim as optim\n",
    "import torch.nn as nn\n",
    "\n",
    "import matplotlib.pyplot as plt\n",
    "import librosa\n",
    "import librosa.display\n",
    "#import IPython.display as ipd\n",
    "\n",
    "import tqdm\n",
    "from tqdm import tqdm\n",
    "\n",
    "import random\n",
    "import pickle\n",
    "\n",
    "from sklearn import metrics\n",
    "from sklearn.metrics import roc_curve, auc"
   ]
  },
  {
   "cell_type": "code",
   "execution_count": 2,
   "id": "8717f4ad",
   "metadata": {},
   "outputs": [],
   "source": [
    "allNormal = np.load(\"allNormal3.npy\", allow_pickle=True)\n",
    "allAnomaly = np.load(\"allAnomaly4.npy\", allow_pickle=True)"
   ]
  },
  {
   "cell_type": "code",
   "execution_count": 3,
   "id": "1c322a39",
   "metadata": {},
   "outputs": [],
   "source": [
    "def makeWindows(data, numWindows):\n",
    "    windows = []\n",
    "    intervalLength = int(430 / numWindows)\n",
    "    for mspec in tqdm(range(len(data))):\n",
    "        start = 0\n",
    "        end = intervalLength\n",
    "        for interval in range(numWindows):\n",
    "            melspectrogram = data[mspec]\n",
    "            window = melspectrogram[:,start:end]\n",
    "            windows.append(window)\n",
    "            start += intervalLength\n",
    "            end += intervalLength\n",
    "    return windows\n",
    "        \n",
    "def makeWindows2(data, numWindows): #makes the windows with the metadata to amke it reconstructable\n",
    "    windows = []\n",
    "    classifiers = {}\n",
    "    intervalLength = int(430 / numWindows)\n",
    "    for mspec in tqdm(range(len(data))):\n",
    "        start = 0\n",
    "        end = intervalLength\n",
    "        classifiers[mspec] = data[mspec][1]\n",
    "        for interval in range(numWindows):\n",
    "            melspectrogram = data[mspec][0]\n",
    "            window = melspectrogram[:,start:end]\n",
    "            windows.append([window, mspec, interval])\n",
    "            start += intervalLength\n",
    "            end += intervalLength\n",
    "    return windows, classifiers\n",
    "\n",
    "def makeWindows3(data, numWindows):\n",
    "    windows = []\n",
    "    intervalLength = int(430 / numWindows)\n",
    "    for mspec in tqdm(range(len(data))):\n",
    "        start = 0\n",
    "        end = intervalLength\n",
    "        for interval in range(numWindows):\n",
    "            melspectrogram = data[mspec][0]\n",
    "            window = melspectrogram[:,start:end]\n",
    "            windows.append([window, mspec, interval])\n",
    "            start += intervalLength\n",
    "            end += intervalLength\n",
    "    return windows\n",
    "\n",
    "def makeWindows4(data, numWindows): #makes the windows with the metadata to amke it reconstructable, takes in a singular window\n",
    "    windows = []\n",
    "    intervalLength = int(430 / numWindows)\n",
    "    start = 0\n",
    "    end = intervalLength\n",
    "    classifier = data[1]\n",
    "    melspectrogram = data[0]\n",
    "    for interval in range(numWindows):\n",
    "        window = melspectrogram[:,start:end]\n",
    "        windows.append([window, interval])\n",
    "        start += intervalLength\n",
    "        end += intervalLength\n",
    "        \n",
    "    npWindows = np.array([]).reshape(0,1,11,86)\n",
    "    for j in range(len(windows)):\n",
    "        npWindows = np.vstack([npWindows, windows[j][0].reshape(-1,1,11,86)])\n",
    "    return npWindows, classifier\n",
    "\n",
    "def sortWindows(arr):#sorts from least to greatest in terms of the \"mel-order\"\n",
    "    for mspec in range(len(arr)):\n",
    "        for mspec2 in range(mspec, len(arr)):\n",
    "            if arr[mspec][2] > arr[mspec2][2]:\n",
    "                temp = arr[mspec]\n",
    "                arr[mspec] = arr[mspec2]\n",
    "                arr[mspec2] = temp\n",
    "    return arr\n",
    "\n",
    "def reconstruct(arr, numWindows, size): #reconstructs the Mel spectrograms after being window sliced and shuffled\n",
    "    arr = arr.tolist()\n",
    "    melspectrograms = []\n",
    "    allRecon = []\n",
    "    for melID in tqdm(range(size)):\n",
    "        mspec = []\n",
    "        for a in range(len(arr)):\n",
    "            print(a)\n",
    "            if arr[a][1] == melID:\n",
    "                mspec.append(arr[a])\n",
    "        sortWindows(mspec)\n",
    "        mspec = np.array(mspec)\n",
    "        whole = mspec[0][0]\n",
    "        for time in range(1,numWindows):\n",
    "            whole = np.concatenate((whole, mspec[time][0]), axis=1)\n",
    "        whole = whole.tolist()\n",
    "        allRecon.append(whole)\n",
    "    return allRecon\n",
    "\n",
    "def reconstruct2(numpyArray, numWindows): #reconstructs the Mel spectrograms after being window sliced and shuffled\n",
    "    numpyArray = numpyArray.tolist()\n",
    "    #numpyArray = sortWindows2(numpyArray)\n",
    "    mspec = np.array(numpyArray)\n",
    "    whole = mspec[0].reshape(11,86)\n",
    "    for time in range(1,numWindows):\n",
    "        whole = np.concatenate((whole, mspec[time].reshape(11,86)), axis=1)\n",
    "    return whole\n",
    "\n",
    "def sortWindows2(arr):#sorts from least to greatest in terms of the \"mel-order\", takes in a python list\n",
    "    for mspec in range(len(arr)):\n",
    "        for mspec2 in range(mspec, len(arr)):\n",
    "            if arr[mspec][1] > arr[mspec2][1]:\n",
    "                temp = arr[mspec]\n",
    "                arr[mspec] = arr[mspec2]\n",
    "                arr[mspec2] = temp\n",
    "    return arr"
   ]
  },
  {
   "cell_type": "code",
   "execution_count": 4,
   "id": "6cbe10e2",
   "metadata": {},
   "outputs": [],
   "source": [
    "class CAE(nn.Module):\n",
    "    def __init__(self):\n",
    "        super().__init__()\n",
    "        \n",
    "        self.encoder = nn.Sequential( #starting size: (11,86)\n",
    "            nn.Conv2d(1,32,3), #input: 11, 86 -> 9, 84\n",
    "            nn.ReLU(),\n",
    "            nn.MaxPool2d(2),\n",
    "            nn.Conv2d(32,64,3), #input: 4, 42 -> 2,40\n",
    "            nn.ReLU(),\n",
    "            nn.BatchNorm2d(64),\n",
    "            nn.MaxPool2d(2) #input: 2, 40 -> 1, 20\n",
    "            #final: 1, 20\n",
    "        )\n",
    "        \n",
    "        self.decoder = nn.Sequential(\n",
    "            nn.ConvTranspose2d(64, 32, 3, stride=2), #input: 1,20 -> 3,41\n",
    "            nn.ReLU(),\n",
    "            nn.ConvTranspose2d(32, 1, 6, stride=2, output_padding = (1,0)) #input: 3, 41 -> 10,86\n",
    "            \n",
    "            #final: 10,86\n",
    "        )\n",
    "        \n",
    "    def forward(self,x):\n",
    "        x = self.encoder(x)\n",
    "        x=self.decoder(x)\n",
    "        return x"
   ]
  },
  {
   "cell_type": "code",
   "execution_count": 5,
   "id": "b94c8709",
   "metadata": {},
   "outputs": [
    {
     "name": "stdout",
     "output_type": "stream",
     "text": [
      "5399 5469\n"
     ]
    }
   ],
   "source": [
    "print(len(allNormal),len(allAnomaly))"
   ]
  },
  {
   "cell_type": "code",
   "execution_count": 6,
   "id": "98dcf6ce",
   "metadata": {},
   "outputs": [
    {
     "name": "stdout",
     "output_type": "stream",
     "text": [
      "10868\n"
     ]
    }
   ],
   "source": [
    "test = allNormal[:]\n",
    "test = test.tolist()\n",
    "\n",
    "for i in allAnomaly:\n",
    "    test.append(i)\n",
    "\n",
    "print(len(test))"
   ]
  },
  {
   "cell_type": "code",
   "execution_count": 7,
   "id": "9b717f5e",
   "metadata": {},
   "outputs": [],
   "source": [
    "# windows, classifiers = makeWindows2(test, 5)"
   ]
  },
  {
   "cell_type": "code",
   "execution_count": 8,
   "id": "894c8e9c",
   "metadata": {},
   "outputs": [
    {
     "name": "stderr",
     "output_type": "stream",
     "text": [
      "100%|██████████| 10868/10868 [00:27<00:00, 395.02it/s]\n"
     ]
    }
   ],
   "source": [
    "model = pickle.load(open('fan_1.pt', 'rb'))\n",
    "criterion = nn.MSELoss()\n",
    "lossDictionary = {}\n",
    "val_acc = -1\n",
    "val_loss = []\n",
    "classifiers = []\n",
    "\n",
    "\n",
    "# for data in tqdm(range(len(windows))):\n",
    "#     window = torch.from_numpy(windows[data][0]).type(torch.float32)\n",
    "#     output = model(window.view(-1,1,11,86))\n",
    "#     loss = criterion(output.view(-1,1,11,86), window.view(-1,1,11,86))\n",
    "#     val_loss.append(loss)\n",
    "#     if lossDictionary.get(windows[data][1]) == None:\n",
    "#         lossDictionary[windows[data][1]] = [loss.item()]\n",
    "#     elif lossDictionary.get(windows[data][1]) != None:\n",
    "#         lossDictionary[windows[data][1]].append(loss.item())\n",
    "        \n",
    "for data in tqdm(range(len(test))):\n",
    "    windows, classifier = makeWindows4(test[data], 5)\n",
    "    classifiers.append(classifier[0])\n",
    "#     windows = np.array(windows)\n",
    "    windows = torch.from_numpy(windows).type(torch.float32)\n",
    "    output = model(windows.view(-1,1,11,86))\n",
    "    mspec = reconstruct2(output.detach().numpy(), 5)\n",
    "    loss = criterion(torch.from_numpy(mspec).type(torch.float32).view(-1,1,11,430), torch.from_numpy(test[data][0]).type(torch.float32).view(-1,1,11,430))\n",
    "    val_loss.append(loss)\n",
    "    lossDictionary[data] = loss.item()\n",
    "\n",
    "val_loss = np.array(val_loss)\n",
    "val_loss = val_loss * -1\n",
    "fpr, tpr, thresholds = metrics.roc_curve(classifiers, val_loss)\n",
    "    \n",
    "#AUC-ROC Graph\n",
    "\n",
    "plt.figure(figsize=(5, 5), dpi=100)\n",
    "plt.plot(fpr, tpr, linestyle='-')\n",
    "\n",
    "plt.xlabel('False Positive Rate -->')\n",
    "plt.ylabel('True Positive Rate -->')\n",
    "\n",
    "plt.legend()\n",
    "\n",
    "plt.show()"
   ]
  },
  {
   "cell_type": "code",
   "execution_count": 12,
   "id": "eb8c0d0c",
   "metadata": {
    "scrolled": true
   },
   "outputs": [
    {
     "name": "stdout",
     "output_type": "stream",
     "text": [
      "0.6184910752080857\n"
     ]
    }
   ],
   "source": [
    "#model 17 = 0.6050896377301269\n",
    "#model 18 = 0.614177516941961\n",
    "#model 19 = 0.6169899134460439 \n",
    "#model 20 = 0.6184910752080857 (Best Model So Far)\n",
    "\n",
    "print(auc(fpr, tpr))"
   ]
  },
  {
   "cell_type": "code",
   "execution_count": 13,
   "id": "53b896e2",
   "metadata": {},
   "outputs": [],
   "source": [
    "#     correct = 0\n",
    "# total = len(test)\n",
    "# predictions = []\n",
    "# #threshold = 10\n",
    "\n",
    "# TPRs = []\n",
    "# FPRS = []\n",
    "# with torch.no_grad():\n",
    "#     for threshold in range(0, 110, 10):\n",
    "# #         TP = 0 #true positive\n",
    "# #         TN = 0 #true negative\n",
    "# #         FP = 0 # false positive\n",
    "# #         FN = 0 # false negative\n",
    "#         for j in tqdm(range(len(test))):\n",
    "#             if lossDictionary[j] > threshold:\n",
    "# #                 if [0,1] == classifiers[j].tolist():\n",
    "#                 predictions.append([0,1])\n",
    "# #                     TN += 1\n",
    "# #                 else:\n",
    "# #                     predictions[j] = [0,1]\n",
    "# #                     FN += 1\n",
    "#             elif lossDictionary[j] <= threshold:\n",
    "# #                 if [1,0] == classifiers[j].tolist:\n",
    "#                 predictions.append([1,0])\n",
    "# #                     TP += 1\n",
    "# #                 else:\n",
    "# #                     predictions[j] = [1,0]\n",
    "# #                     FP += 1\n",
    "# #         TPR = TP / (TP+FN)\n",
    "# #         FPR = FP / (FP+TN)\n",
    "# #         TPRs.append(TPR)\n",
    "# #         FPRs.append(FPR)\n",
    "\n",
    "# #https://scikit-learn.org/stable/modules/generated/sklearn.metrics.roc_curve.html\n",
    "# #https://www.projectpro.io/recipes/plot-roc-curve-in-python\n",
    "\n",
    "# print(val_acc)"
   ]
  },
  {
   "cell_type": "code",
   "execution_count": 29,
   "id": "ad684a4a",
   "metadata": {},
   "outputs": [
    {
     "name": "stdout",
     "output_type": "stream",
     "text": [
      "(11, 430)\n"
     ]
    },
    {
     "data": {
      "image/png": "[encoded data removed]",
      "text/plain": [
       "<Figure size 1800x720 with 2 Axes>"
      ]
     },
     "metadata": {
      "needs_background": "light"
     },
     "output_type": "display_data"
    },
    {
     "data": {
      "image/png": "[encoded data removed]",
      "text/plain": [
       "<Figure size 1800x720 with 2 Axes>"
      ]
     },
     "metadata": {
      "needs_background": "light"
     },
     "output_type": "display_data"
    },
    {
     "name": "stdout",
     "output_type": "stream",
     "text": [
      "325.96588134765625\n"
     ]
    }
   ],
   "source": [
    "# a=2\n",
    "# model = pickle.load(open('model_11.pt', 'rb'))\n",
    "# windows, classifier = makeWindows4(test[a], 5)\n",
    "# windows = torch.from_numpy(windows).type(torch.float32)\n",
    "# o = model(windows.view(-1,1,11,86))\n",
    "# mspec = reconstruct2(output.detach().numpy(), 5)\n",
    "# print(mspec.shape)\n",
    "# plt.figure(figsize=(25,10))\n",
    "# librosa.display.specshow(mspec.reshape(11,430), x_axis = \"time\", y_axis = \"mel\", sr=22050)\n",
    "\n",
    "# plt.colorbar(format=\"%+2.f\")\n",
    "# plt.show()\n",
    "\n",
    "# plt.figure(figsize=(25,10))\n",
    "# librosa.display.specshow(test[a][0].reshape(11,430), x_axis = \"time\", y_axis = \"mel\", sr=22050)\n",
    "\n",
    "# plt.colorbar(format=\"%+2.f\")\n",
    "# plt.show()\n",
    "\n",
    "# thing = criterion(torch.from_numpy(mspec).type(torch.float32).view(1,11,430), torch.from_numpy(test[a][0]).type(torch.float32).view(-1,1,11,430))\n",
    "# print(thing.item())"
   ]
  },
  {
   "cell_type": "code",
   "execution_count": 15,
   "id": "5fd9c415",
   "metadata": {},
   "outputs": [
    {
     "data": {
      "image/png": "[encoded data removed]",
      "text/plain": [
       "<Figure size 1800x720 with 2 Axes>"
      ]
     },
     "metadata": {
      "needs_background": "light"
     },
     "output_type": "display_data"
    },
    {
     "ename": "TypeError",
     "evalue": "Cannot interpret 'torch.float32' as a data type",
     "output_type": "error",
     "traceback": [
      "\u001b[1;31m---------------------------------------------------------------------------\u001b[0m",
      "\u001b[1;31mTypeError\u001b[0m                                 Traceback (most recent call last)",
      "\u001b[1;32m<ipython-input-15-db9ee749aeb2>\u001b[0m in \u001b[0;36m<module>\u001b[1;34m\u001b[0m\n\u001b[0;32m      6\u001b[0m \u001b[1;33m\u001b[0m\u001b[0m\n\u001b[0;32m      7\u001b[0m \u001b[0mplt\u001b[0m\u001b[1;33m.\u001b[0m\u001b[0mfigure\u001b[0m\u001b[1;33m(\u001b[0m\u001b[0mfigsize\u001b[0m\u001b[1;33m=\u001b[0m\u001b[1;33m(\u001b[0m\u001b[1;36m25\u001b[0m\u001b[1;33m,\u001b[0m\u001b[1;36m10\u001b[0m\u001b[1;33m)\u001b[0m\u001b[1;33m)\u001b[0m\u001b[1;33m\u001b[0m\u001b[1;33m\u001b[0m\u001b[0m\n\u001b[1;32m----> 8\u001b[1;33m \u001b[0mlibrosa\u001b[0m\u001b[1;33m.\u001b[0m\u001b[0mdisplay\u001b[0m\u001b[1;33m.\u001b[0m\u001b[0mspecshow\u001b[0m\u001b[1;33m(\u001b[0m\u001b[0mwindows\u001b[0m\u001b[1;33m[\u001b[0m\u001b[1;36m0\u001b[0m\u001b[1;33m]\u001b[0m\u001b[1;33m.\u001b[0m\u001b[0mreshape\u001b[0m\u001b[1;33m(\u001b[0m\u001b[1;36m11\u001b[0m\u001b[1;33m,\u001b[0m\u001b[1;36m86\u001b[0m\u001b[1;33m)\u001b[0m\u001b[1;33m,\u001b[0m \u001b[0mx_axis\u001b[0m \u001b[1;33m=\u001b[0m \u001b[1;34m\"time\"\u001b[0m\u001b[1;33m,\u001b[0m \u001b[0my_axis\u001b[0m \u001b[1;33m=\u001b[0m \u001b[1;34m\"mel\"\u001b[0m\u001b[1;33m,\u001b[0m \u001b[0msr\u001b[0m\u001b[1;33m=\u001b[0m\u001b[1;36m22050\u001b[0m\u001b[1;33m)\u001b[0m\u001b[1;33m\u001b[0m\u001b[1;33m\u001b[0m\u001b[0m\n\u001b[0m\u001b[0;32m      9\u001b[0m \u001b[1;33m\u001b[0m\u001b[0m\n\u001b[0;32m     10\u001b[0m \u001b[0mplt\u001b[0m\u001b[1;33m.\u001b[0m\u001b[0mcolorbar\u001b[0m\u001b[1;33m(\u001b[0m\u001b[0mformat\u001b[0m\u001b[1;33m=\u001b[0m\u001b[1;34m\"%+2.f\"\u001b[0m\u001b[1;33m)\u001b[0m\u001b[1;33m\u001b[0m\u001b[1;33m\u001b[0m\u001b[0m\n",
      "\u001b[1;32m~\\anaconda3\\lib\\site-packages\\librosa\\display.py\u001b[0m in \u001b[0;36mspecshow\u001b[1;34m(data, x_coords, y_coords, x_axis, y_axis, sr, hop_length, fmin, fmax, tuning, bins_per_octave, key, Sa, mela, thaat, auto_aspect, htk, ax, **kwargs)\u001b[0m\n\u001b[0;32m    951\u001b[0m     \"\"\"\n\u001b[0;32m    952\u001b[0m \u001b[1;33m\u001b[0m\u001b[0m\n\u001b[1;32m--> 953\u001b[1;33m     \u001b[1;32mif\u001b[0m \u001b[0mnp\u001b[0m\u001b[1;33m.\u001b[0m\u001b[0missubdtype\u001b[0m\u001b[1;33m(\u001b[0m\u001b[0mdata\u001b[0m\u001b[1;33m.\u001b[0m\u001b[0mdtype\u001b[0m\u001b[1;33m,\u001b[0m \u001b[0mnp\u001b[0m\u001b[1;33m.\u001b[0m\u001b[0mcomplexfloating\u001b[0m\u001b[1;33m)\u001b[0m\u001b[1;33m:\u001b[0m\u001b[1;33m\u001b[0m\u001b[1;33m\u001b[0m\u001b[0m\n\u001b[0m\u001b[0;32m    954\u001b[0m         warnings.warn(\n\u001b[0;32m    955\u001b[0m             \u001b[1;34m\"Trying to display complex-valued input. \"\u001b[0m \u001b[1;34m\"Showing magnitude instead.\"\u001b[0m\u001b[1;33m\u001b[0m\u001b[1;33m\u001b[0m\u001b[0m\n",
      "\u001b[1;32m~\\anaconda3\\lib\\site-packages\\numpy\\core\\numerictypes.py\u001b[0m in \u001b[0;36missubdtype\u001b[1;34m(arg1, arg2)\u001b[0m\n\u001b[0;32m    417\u001b[0m     \"\"\"\n\u001b[0;32m    418\u001b[0m     \u001b[1;32mif\u001b[0m \u001b[1;32mnot\u001b[0m \u001b[0missubclass_\u001b[0m\u001b[1;33m(\u001b[0m\u001b[0marg1\u001b[0m\u001b[1;33m,\u001b[0m \u001b[0mgeneric\u001b[0m\u001b[1;33m)\u001b[0m\u001b[1;33m:\u001b[0m\u001b[1;33m\u001b[0m\u001b[1;33m\u001b[0m\u001b[0m\n\u001b[1;32m--> 419\u001b[1;33m         \u001b[0marg1\u001b[0m \u001b[1;33m=\u001b[0m \u001b[0mdtype\u001b[0m\u001b[1;33m(\u001b[0m\u001b[0marg1\u001b[0m\u001b[1;33m)\u001b[0m\u001b[1;33m.\u001b[0m\u001b[0mtype\u001b[0m\u001b[1;33m\u001b[0m\u001b[1;33m\u001b[0m\u001b[0m\n\u001b[0m\u001b[0;32m    420\u001b[0m     \u001b[1;32mif\u001b[0m \u001b[1;32mnot\u001b[0m \u001b[0missubclass_\u001b[0m\u001b[1;33m(\u001b[0m\u001b[0marg2\u001b[0m\u001b[1;33m,\u001b[0m \u001b[0mgeneric\u001b[0m\u001b[1;33m)\u001b[0m\u001b[1;33m:\u001b[0m\u001b[1;33m\u001b[0m\u001b[1;33m\u001b[0m\u001b[0m\n\u001b[0;32m    421\u001b[0m         \u001b[0marg2\u001b[0m \u001b[1;33m=\u001b[0m \u001b[0mdtype\u001b[0m\u001b[1;33m(\u001b[0m\u001b[0marg2\u001b[0m\u001b[1;33m)\u001b[0m\u001b[1;33m.\u001b[0m\u001b[0mtype\u001b[0m\u001b[1;33m\u001b[0m\u001b[1;33m\u001b[0m\u001b[0m\n",
      "\u001b[1;31mTypeError\u001b[0m: Cannot interpret 'torch.float32' as a data type"
     ]
    },
    {
     "data": {
      "text/plain": [
       "<Figure size 1800x720 with 0 Axes>"
      ]
     },
     "metadata": {},
     "output_type": "display_data"
    }
   ],
   "source": [
    "# plt.figure(figsize=(25,10))\n",
    "# librosa.display.specshow(o[0].detach().numpy().reshape(11,86), x_axis = \"time\", y_axis = \"mel\", sr=22050)\n",
    "\n",
    "# plt.colorbar(format=\"%+2.f\")\n",
    "# plt.show()\n",
    "\n",
    "# plt.figure(figsize=(25,10))\n",
    "# librosa.display.specshow(windows[0].reshape(11,86), x_axis = \"time\", y_axis = \"mel\", sr=22050)\n",
    "\n",
    "# plt.colorbar(format=\"%+2.f\")\n",
    "# plt.show()\n",
    "\n",
    "# thing = criterion(torch.from_numpy(mspec).type(torch.float32).view(1,11,430), torch.from_numpy(test[a]).type(torch.float32).view(-1,1,11,430))\n",
    "# print(thing.item())"
   ]
  },
  {
   "cell_type": "code",
   "execution_count": null,
   "id": "bd9ba961",
   "metadata": {},
   "outputs": [],
   "source": [
    "# a = 2\n",
    "# w, c = makeWindows2(test[0:2], 5)\n",
    "# output = model(torch.from_numpy(w[a][0]).type(torch.float32).view(-1,1,11,86))\n",
    "# loss = criterion(output.view(-1,1,11,86), torch.from_numpy(w[a][0].reshape(-1,1,11,86)).type(torch.float32))\n",
    "# print(loss.item())"
   ]
  },
  {
   "cell_type": "code",
   "execution_count": null,
   "id": "0a8adfff",
   "metadata": {},
   "outputs": [],
   "source": [
    "\n",
    "# # def makeWindows2(data, numWindows):\n",
    "# arr2 = makeWindows3(test[0:2], 5)\n",
    "# whole = []\n",
    "\n",
    "# for data in tqdm(range(len(arr2[0:5]))):\n",
    "#     window = torch.from_numpy(np.array(arr2[data][0])).type(torch.float32)\n",
    "#     output = model(window.view(-1,1,11,86))\n",
    "#     whole.append([output, arr2[data][1], arr2[data][2]])\n",
    "\n",
    "# wholeNumpy = np.array([[whole[0][0].detach().numpy().reshape(11,86), whole[0][1], whole[0][2]], [whole[1][0].detach().numpy().reshape(11,86), whole[1][1], whole[1][2]], [whole[2][0].detach().numpy().reshape(11,86), whole[2][1], whole[2][2]], [whole[3][0].detach().numpy().reshape(11,86), whole[3][1], whole[3][2]], [whole[4][0].detach().numpy().reshape(11,86), whole[4][1], whole[4][2]]])\n",
    "# #     loss = criterion(output.view(-1,1,11,86), window.view(-1,1,11,86))\n",
    "# melspec = reconstruct(np.array(wholeNumpy), 5, 1)\n",
    "# melspec = np.array(melspec)\n",
    "\n",
    "# plt.figure(figsize=(25,10))\n",
    "# librosa.display.specshow(melspec.reshape(11,430), x_axis = \"time\", y_axis = \"mel\", sr=22050)\n",
    "\n",
    "# plt.colorbar(format=\"%+2.f\")\n",
    "# plt.show()\n",
    "\n",
    "# plt.figure(figsize=(25,10))\n",
    "# librosa.display.specshow(test[0][0].reshape(11,430), x_axis = \"time\", y_axis = \"mel\", sr=22050)\n",
    "\n",
    "# plt.colorbar(format=\"%+2.f\")\n",
    "# plt.show()\n"
   ]
  }
 ],
 "metadata": {
  "kernelspec": {
   "display_name": "Python 3",
   "language": "python",
   "name": "python3"
  },
  "language_info": {
   "codemirror_mode": {
    "name": "ipython",
    "version": 3
   },
   "file_extension": ".py",
   "mimetype": "text/x-python",
   "name": "python",
   "nbconvert_exporter": "python",
   "pygments_lexer": "ipython3",
   "version": "3.8.8"
  }
 },
 "nbformat": 4,
 "nbformat_minor": 5
}
