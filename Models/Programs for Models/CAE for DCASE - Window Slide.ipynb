{
 "cells": [
  {
   "cell_type": "code",
   "execution_count": 1,
   "id": "b501e2a5",
   "metadata": {},
   "outputs": [],
   "source": [
    "import numpy as np\n",
    "\n",
    "import torch\n",
    "import torchvision\n",
    "import torch.optim as optim\n",
    "import torch.nn as nn\n",
    "\n",
    "import matplotlib.pyplot as plt\n",
    "import librosa\n",
    "import librosa.display\n",
    "import IPython.display as ipd\n",
    "\n",
    "import tqdm\n",
    "from tqdm import tqdm\n",
    "\n",
    "import random\n",
    "import pickle\n",
    "import time"
   ]
  },
  {
   "cell_type": "code",
   "execution_count": 2,
   "id": "a7ee8cee",
   "metadata": {},
   "outputs": [],
   "source": [
    "#loading data\n",
    "data = np.load(\"trainingNormalized430Cut11BinsDATA2.npy\")\n",
    "allNormal = np.load(\"allNormal3.npy\", allow_pickle=True)\n",
    "# allAnomaly = np.load(\"allAnomaly3.npy\", allow_pickle=True)\n",
    "\n",
    "# test = allNormal[:]\n",
    "# test = test.tolist()\n",
    "\n",
    "# for i in allAnomaly:\n",
    "#     test.append(i)\n",
    "\n",
    "# print(len(test))"
   ]
  },
  {
   "cell_type": "code",
   "execution_count": 3,
   "id": "d6614ecc",
   "metadata": {},
   "outputs": [],
   "source": [
    "def makeWindows(data, numWindows):\n",
    "    windows = []\n",
    "    intervalLength = int(430 / numWindows)\n",
    "    for mspec in range(len(data)):\n",
    "        start = 0\n",
    "        end = intervalLength\n",
    "        for interval in range(numWindows):\n",
    "            melspectrogram = data[mspec]\n",
    "            window = melspectrogram[:,start:end]\n",
    "            windows.append(window)\n",
    "            start += intervalLength\n",
    "            end += intervalLength\n",
    "    return windows\n",
    "        "
   ]
  },
  {
   "cell_type": "code",
   "execution_count": 4,
   "id": "a5ff01c9",
   "metadata": {},
   "outputs": [],
   "source": [
    "def makeWindows2(data, numWindows):\n",
    "    windows = []\n",
    "    intervalLength = int(430 / numWindows)\n",
    "    for mspec in tqdm(range(len(data))):\n",
    "        start = 0\n",
    "        end = intervalLength\n",
    "        for interval in range(numWindows):\n",
    "            melspectrogram = data[mspec]\n",
    "            window = melspectrogram[:,start:end]\n",
    "            windows.append([window, mspec, interval])\n",
    "            start += intervalLength\n",
    "            end += intervalLength\n",
    "    return windows\n",
    "    "
   ]
  },
  {
   "cell_type": "code",
   "execution_count": 5,
   "id": "5b0dc52f",
   "metadata": {},
   "outputs": [],
   "source": [
    "#taking a sample size of 10,000\n",
    "#8:2 split (training_data:testing_data ratio)\n",
    "np.random.seed(1234)\n",
    "np.random.shuffle(data)\n",
    "training_data = data[:] #length of 8000\n",
    "# testing_data = data[8000:10000] #length of 2000\n",
    "\n",
    "windows = makeWindows(training_data, 43) #this makes the window size 11 x 10\n",
    "# testWindows = makeWindows(testing_data, 5)"
   ]
  },
  {
   "cell_type": "code",
   "execution_count": 6,
   "id": "25b7bc5e",
   "metadata": {},
   "outputs": [],
   "source": [
    "class CAE(nn.Module):\n",
    "    def __init__(self):\n",
    "        super().__init__()\n",
    "        \n",
    "        self.encoder = nn.Sequential( #starting size: (11,10)\n",
    "            nn.Conv2d(1,32,3), #input: 11, 10 -> 9, 8\n",
    "            nn.ReLU(),\n",
    "            nn.MaxPool2d(2),\n",
    "            nn.Conv2d(32,64,3), #input: 4, 4 -> 2,2\n",
    "            nn.ReLU(),\n",
    "            nn.BatchNorm2d(64),\n",
    "            nn.MaxPool2d(2) #input: 2, 2 -> 1, 1\n",
    "            #final: 1, 1\n",
    "        )\n",
    "        \n",
    "        self.decoder = nn.Sequential(\n",
    "            nn.ConvTranspose2d(64, 32, 3, stride=2), #input: 1,1 -> 3,3\n",
    "            nn.ReLU(),\n",
    "            nn.ConvTranspose2d(32, 1, 6, stride=2, output_padding = (1,0)) #input: 3, 3 -> 11,10\n",
    "            \n",
    "            #final: 11,10\n",
    "        )\n",
    "        \n",
    "    def forward(self,x):\n",
    "        x = self.encoder(x)\n",
    "        x=self.decoder(x)\n",
    "        return x"
   ]
  },
  {
   "cell_type": "code",
   "execution_count": 7,
   "id": "3384b8c7",
   "metadata": {},
   "outputs": [],
   "source": [
    "# windows[0].shape"
   ]
  },
  {
   "cell_type": "code",
   "execution_count": 8,
   "id": "55019cc1",
   "metadata": {},
   "outputs": [],
   "source": [
    "# test = CAE()\n",
    "\n",
    "# o = test.encoder(torch.from_numpy(windows[0].reshape(-1,1,11,86)).type(torch.float32))\n",
    "# o.shape"
   ]
  },
  {
   "cell_type": "code",
   "execution_count": 9,
   "id": "5ec76d6e",
   "metadata": {},
   "outputs": [
    {
     "name": "stdout",
     "output_type": "stream",
     "text": [
      "0\n",
      "Shape: 2791, 65\n"
     ]
    }
   ],
   "source": [
    "#creating the batches - fan\n",
    "#total windows will be 247,938\n",
    "BATCH_SIZE = 31\n",
    "BATCHES = []\n",
    "\n",
    "copy = windows\n",
    "\n",
    "seed = 0\n",
    "\n",
    "iterations = int((len(copy))/BATCH_SIZE)\n",
    "for i in range(iterations):\n",
    "    random.seed(seed)\n",
    "    start = random.randint(0, len(copy) - BATCH_SIZE)\n",
    "    seed += 1\n",
    "    end = start + BATCH_SIZE\n",
    "    batch = copy[start:end]\n",
    "    BATCHES.append(batch)\n",
    "    copy = copy[:start] + copy[end:] #taking out the batch from the training_data\n",
    "    #to prevent duplicate numbers from appearing across batches\n",
    "   \n",
    "print(len(copy))\n",
    "print(f'Shape: {len(BATCHES)}, {len(BATCHES[0])}')"
   ]
  },
  {
   "cell_type": "code",
   "execution_count": 10,
   "id": "c294705e",
   "metadata": {},
   "outputs": [],
   "source": [
    "#converting the python list to tensor\n",
    "\n",
    "batched_training_data = np.array(BATCHES)\n",
    "np.random.seed(2345)\n",
    "np.random.shuffle(batched_training_data)\n",
    "batched_training_data = torch.from_numpy(batched_training_data).type(torch.float32)"
   ]
  },
  {
   "cell_type": "code",
   "execution_count": 11,
   "id": "6ed5a1c3",
   "metadata": {},
   "outputs": [
    {
     "data": {
      "text/plain": [
       "86"
      ]
     },
     "execution_count": 11,
     "metadata": {},
     "output_type": "execute_result"
    }
   ],
   "source": [
    "# len(BATCHES[0][0][0])"
   ]
  },
  {
   "cell_type": "code",
   "execution_count": 12,
   "id": "6b284ee0",
   "metadata": {},
   "outputs": [
    {
     "data": {
      "text/plain": [
       "torch.Size([2791, 65, 11, 86])"
      ]
     },
     "execution_count": 12,
     "metadata": {},
     "output_type": "execute_result"
    }
   ],
   "source": [
    "# batched_training_data.shape"
   ]
  },
  {
   "cell_type": "code",
   "execution_count": 13,
   "id": "689f3971",
   "metadata": {},
   "outputs": [],
   "source": [
    "# y = allNormal[:5, 0]\n",
    "# y2 = makeWindows(y, 5)\n",
    "# y2= np.array(y2)\n",
    "# np.random.seed(2345)\n",
    "# np.random.shuffle(y2)\n",
    "# print(y2.dtype)\n",
    "# y2 = torch.from_numpy(y2).type(torch.float32)\n",
    "# print(type(y2))\n"
   ]
  },
  {
   "cell_type": "code",
   "execution_count": 14,
   "id": "c3c2ac14",
   "metadata": {
    "scrolled": true
   },
   "outputs": [
    {
     "name": "stdout",
     "output_type": "stream",
     "text": [
      "Epoch 0, Loss: 24.1652\n",
      "Epoch 1, Loss: 15.4003\n",
      "Epoch 2, Loss: 10.6046\n",
      "Epoch 3, Loss: 8.2747\n",
      "Epoch 4, Loss: 7.2132\n"
     ]
    }
   ],
   "source": [
    "#training\n",
    "\n",
    "model = CAE()\n",
    "criterion = nn.MSELoss()\n",
    "optimizer = optim.Adam(model.parameters(), lr = 0.0001)\n",
    "\n",
    "# size = 65\n",
    "\n",
    "allNormalCut = allNormal[:65, 0]\n",
    "allNormalCut = makeWindows(allNormalCut, 5)\n",
    "allNormalCut = allNormalCut[:size]\n",
    "allNormalCut = np.array(allNormalCut)\n",
    "\n",
    "NUM_OF_EPOCH = 50\n",
    "\n",
    "train_losses = []\n",
    "val_losses = []\n",
    "\n",
    "#outputs = []\n",
    "\n",
    "# def test(testX):\n",
    "#     testX = torch.from_numpy(testX).type(torch.float32)\n",
    "#     outputs = model(testX.view(-1,1,11,10))\n",
    "#     val_loss = criterion(outputs.view(-1,1,11,10), testX.view(-1,1,11,10))\n",
    "#     return val_loss\n",
    "with open(\"fan_1.log\", \"a\") as f\n",
    "    for epoch in range(NUM_OF_EPOCH):\n",
    "        for i in range(len(batched_training_data)):\n",
    "            output = model(batched_training_data[i].view(-1,1,11,10))\n",
    "            loss = criterion(output.view(-1,1,11,10), batched_training_data[i].view(-1,1,11,10))\n",
    "#             train_losses.append(loss.item())\n",
    "        \n",
    "            optimizer.zero_grad()\n",
    "            loss.backward()\n",
    "            optimizer.step()\n",
    "        \n",
    "            if i % 50 == 0:\n",
    "                vloss = test(allNormalCut)\n",
    "                val_losses.append(vloss)\n",
    "                f.write(f\"fan1,{round(time.time(),3)},{round(float(loss.item()), 4)},{round(float(vloss),4)}\\n\")\n",
    "    #outputs.append((epoch, output, batched_training_data[i]))\n",
    "    print(f'Epoch {epoch}, Loss: {loss.item():.4f}')\n",
    "    np.save(\"fan_Losses1.npy\", train_losses)"
   ]
  },
  {
   "cell_type": "code",
   "execution_count": 15,
   "id": "de8e145e",
   "metadata": {},
   "outputs": [
    {
     "data": {
      "text/plain": [
       "torch.Size([65, 11, 86])"
      ]
     },
     "execution_count": 15,
     "metadata": {},
     "output_type": "execute_result"
    }
   ],
   "source": [
    "batched_training_data[i].shape"
   ]
  },
  {
   "cell_type": "code",
   "execution_count": 16,
   "id": "a50e654b",
   "metadata": {},
   "outputs": [
    {
     "data": {
      "text/plain": [
       "torch.Size([2791, 65, 11, 86])"
      ]
     },
     "execution_count": 16,
     "metadata": {},
     "output_type": "execute_result"
    }
   ],
   "source": [
    "batched_training_data.shape"
   ]
  },
  {
   "cell_type": "code",
   "execution_count": 17,
   "id": "d79e10d4",
   "metadata": {},
   "outputs": [],
   "source": [
    "import pickle\n",
    "\n",
    "filename = 'model_20.pt'\n",
    "pickle.dump(model, open(filename, 'wb'))"
   ]
  },
  {
   "cell_type": "code",
   "execution_count": 18,
   "id": "9e69d2f7",
   "metadata": {},
   "outputs": [],
   "source": [
    "# model_5 = pickle.load(open('model_5.pt', 'rb'))"
   ]
  },
  {
   "cell_type": "code",
   "execution_count": 19,
   "id": "2fdf64ed",
   "metadata": {},
   "outputs": [],
   "source": [
    "# testWindows[0].shape"
   ]
  },
  {
   "cell_type": "code",
   "execution_count": 22,
   "id": "58b0b12e",
   "metadata": {},
   "outputs": [
    {
     "name": "stdout",
     "output_type": "stream",
     "text": [
      "42.12590789794922\n"
     ]
    },
    {
     "data": {
      "image/png": "[encoded data removed]",
      "text/plain": [
       "<Figure size 1800x720 with 2 Axes>"
      ]
     },
     "metadata": {
      "needs_background": "light"
     },
     "output_type": "display_data"
    },
    {
     "data": {
      "image/png": "[encoded data removed]",
      "text/plain": [
       "<Figure size 1800x720 with 2 Axes>"
      ]
     },
     "metadata": {
      "needs_background": "light"
     },
     "output_type": "display_data"
    }
   ],
   "source": [
    "model = pickle.load(open('model_20.pt','rb'))\n",
    "a = 100\n",
    "#look at a = 1, it looks very similar\n",
    "output = model(torch.from_numpy(windows[a].reshape(-1,1,11,10)).type(torch.float32))\n",
    "# output2 = model(torch.from_numpy(testWindows[2000].reshape(-1,1,11,86)).type(torch.float32))\n",
    "\n",
    "criterion = nn.MSELoss()\n",
    "testing = criterion(output.view(-1,1,11,10), torch.from_numpy(windows[a]).type(torch.float32).view(-1,1,11,10))\n",
    "print(testing.item())\n",
    "\n",
    "#reconstructed\n",
    "plt.figure(figsize=(25,10))\n",
    "librosa.display.specshow(output.view(11,10).detach().numpy(), x_axis = \"time\", y_axis = \"mel\", sr=22050)\n",
    "\n",
    "plt.colorbar(format=\"%+2.f\")\n",
    "plt.show()\n",
    "\n",
    "#actual\n",
    "plt.figure(figsize=(25,10))\n",
    "librosa.display.specshow(windows[a].reshape(11,10), x_axis = \"time\", y_axis = \"mel\", sr=22050)\n",
    "\n",
    "plt.colorbar(format=\"%+2.f\")\n",
    "plt.show()\n",
    "\n"
   ]
  },
  {
   "cell_type": "code",
   "execution_count": null,
   "id": "f44f8581",
   "metadata": {},
   "outputs": [],
   "source": []
  }
 ],
 "metadata": {
  "kernelspec": {
   "display_name": "Python 3",
   "language": "python",
   "name": "python3"
  },
  "language_info": {
   "codemirror_mode": {
    "name": "ipython",
    "version": 3
   },
   "file_extension": ".py",
   "mimetype": "text/x-python",
   "name": "python",
   "nbconvert_exporter": "python",
   "pygments_lexer": "ipython3",
   "version": "3.8.8"
  }
 },
 "nbformat": 4,
 "nbformat_minor": 5
}
