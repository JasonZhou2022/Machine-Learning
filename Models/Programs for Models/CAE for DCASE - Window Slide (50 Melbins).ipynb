{
 "cells": [
  {
   "cell_type": "code",
   "execution_count": 1,
   "id": "b501e2a5",
   "metadata": {},
   "outputs": [],
   "source": [
    "import numpy as np\n",
    "\n",
    "import torch\n",
    "import torchvision\n",
    "import torch.optim as optim\n",
    "import torch.nn as nn\n",
    "\n",
    "import matplotlib.pyplot as plt\n",
    "import librosa\n",
    "import librosa.display\n",
    "import IPython.display as ipd\n",
    "\n",
    "import tqdm\n",
    "from tqdm import tqdm\n",
    "\n",
    "import random\n",
    "import pickle"
   ]
  },
  {
   "cell_type": "code",
   "execution_count": 2,
   "id": "a7ee8cee",
   "metadata": {},
   "outputs": [],
   "source": [
    "#loading data\n",
    "data = np.load(\"normalized430Cut50BinsDATA.npy\")"
   ]
  },
  {
   "cell_type": "code",
   "execution_count": 3,
   "id": "d6614ecc",
   "metadata": {},
   "outputs": [],
   "source": [
    "def makeWindows(data, numWindows):\n",
    "    windows = []\n",
    "    intervalLength = int(430 / numWindows)\n",
    "    for mspec in tqdm(range(len(data))):\n",
    "        start = 0\n",
    "        end = intervalLength\n",
    "        for interval in range(numWindows):\n",
    "            melspectrogram = data[mspec]\n",
    "            window = melspectrogram[:,start:end]\n",
    "            windows.append(window)\n",
    "            start += intervalLength\n",
    "            end += intervalLength\n",
    "    return windows\n",
    "        "
   ]
  },
  {
   "cell_type": "code",
   "execution_count": 4,
   "id": "a5ff01c9",
   "metadata": {},
   "outputs": [],
   "source": [
    "# def makeWindows2(data, numWindows):\n",
    "#     windows = []\n",
    "#     intervalLength = int(430 / numWindows)\n",
    "#     for mspec in tqdm(range(len(data))):\n",
    "#         start = 0\n",
    "#         end = intervalLength\n",
    "#         for interval in range(numWindows):\n",
    "#             melspectrogram = data[mspec]\n",
    "#             window = melspectrogram[:,start:end]\n",
    "#             windows.append([window, mspec, interval])\n",
    "#             start += intervalLength\n",
    "#             end += intervalLength\n",
    "#     return windows\n",
    "    "
   ]
  },
  {
   "cell_type": "code",
   "execution_count": 5,
   "id": "b884f1d3",
   "metadata": {},
   "outputs": [
    {
     "name": "stderr",
     "output_type": "stream",
     "text": [
      "100%|██████████| 10000/10000 [00:00<00:00, 188962.40it/s]\n",
      "100%|██████████| 2000/2000 [00:00<00:00, 199638.45it/s]\n"
     ]
    }
   ],
   "source": [
    "training_data = data[:10000]\n",
    "testing_data = data[10000:12000]\n",
    "\n",
    "windows = makeWindows(training_data, 5)\n",
    "testWindows = makeWindows(testing_data, 5)"
   ]
  },
  {
   "cell_type": "code",
   "execution_count": 6,
   "id": "5b0dc52f",
   "metadata": {},
   "outputs": [],
   "source": [
    "#taking a sample size of 10,000\n",
    "#8:2 split (training_data:testing_data ratio)\n",
    "np.random.shuffle(data)\n",
    "training_data = data[:8000] #length of 8000\n",
    "testing_data = data[8000:10000] #length of 2000"
   ]
  },
  {
   "cell_type": "code",
   "execution_count": 7,
   "id": "25b7bc5e",
   "metadata": {},
   "outputs": [],
   "source": [
    "class CAE(nn.Module):\n",
    "    def __init__(self):\n",
    "        super().__init__()\n",
    "        \n",
    "        self.encoder = nn.Sequential( #starting size: (50,86)\n",
    "            nn.Conv2d(1,32,3), #input: 50, 86 -> 48,84\n",
    "            nn.ReLU(),\n",
    "            nn.MaxPool2d(2),\n",
    "            nn.Conv2d(32,64,3), #input: 24, 42 -> 22,40\n",
    "            nn.ReLU(),\n",
    "            nn.BatchNorm2d(64),\n",
    "            nn.MaxPool2d(2) #input: 22, 40 -> 11, 20\n",
    "            #final: 11, 20\n",
    "        )\n",
    "        \n",
    "        self.decoder = nn.Sequential(\n",
    "            nn.ConvTranspose2d(64, 32, 3, stride=2), #input: 11,20 -> 23,41\n",
    "            nn.ReLU(),\n",
    "            nn.ConvTranspose2d(32, 1, 6, stride=2) #input: 23, 41 -> 50,86\n",
    "            \n",
    "            #final: 50,86\n",
    "        )\n",
    "        \n",
    "    def forward(self,x):\n",
    "        x = self.encoder(x)\n",
    "        x=self.decoder(x)\n",
    "        return x"
   ]
  },
  {
   "cell_type": "code",
   "execution_count": 8,
   "id": "3384b8c7",
   "metadata": {},
   "outputs": [],
   "source": [
    "# windows[0].shape"
   ]
  },
  {
   "cell_type": "code",
   "execution_count": 9,
   "id": "55019cc1",
   "metadata": {},
   "outputs": [],
   "source": [
    "# test = CAE()\n",
    "\n",
    "# o = test.encoder(torch.from_numpy(windows[0].reshape(-1,1,11,86)).type(torch.float32))\n",
    "# o.shape"
   ]
  },
  {
   "cell_type": "code",
   "execution_count": 10,
   "id": "5ec76d6e",
   "metadata": {},
   "outputs": [
    {
     "name": "stdout",
     "output_type": "stream",
     "text": [
      "0\n",
      "Shape: 1000, 50\n"
     ]
    }
   ],
   "source": [
    "#creating the batches\n",
    "\n",
    "BATCH_SIZE = 50\n",
    "BATCHES = []\n",
    "\n",
    "copy = windows\n",
    "\n",
    "iterations = int((len(copy))/BATCH_SIZE)\n",
    "for i in range(iterations):\n",
    "    start = random.randint(0, len(copy) - BATCH_SIZE)\n",
    "    end = start + BATCH_SIZE\n",
    "    batch = copy[start:end]\n",
    "    BATCHES.append(batch)\n",
    "    copy = copy[:start] + copy[end:] #taking out the batch from the training_data\n",
    "    #to prevent duplicate numbers from appearing across batches\n",
    "   \n",
    "print(len(copy))\n",
    "print(f'Shape: {len(BATCHES)}, {len(BATCHES[0])}')"
   ]
  },
  {
   "cell_type": "code",
   "execution_count": 11,
   "id": "c294705e",
   "metadata": {},
   "outputs": [],
   "source": [
    "#converting the python list to tensor\n",
    "\n",
    "batched_training_data = np.array(BATCHES)\n",
    "np.random.shuffle(batched_training_data)\n",
    "batched_training_data = torch.from_numpy(batched_training_data).type(torch.float32)"
   ]
  },
  {
   "cell_type": "code",
   "execution_count": 12,
   "id": "6ed5a1c3",
   "metadata": {},
   "outputs": [
    {
     "data": {
      "text/plain": [
       "86"
      ]
     },
     "execution_count": 12,
     "metadata": {},
     "output_type": "execute_result"
    }
   ],
   "source": [
    "len(BATCHES[0][0][0])"
   ]
  },
  {
   "cell_type": "code",
   "execution_count": 13,
   "id": "c3c2ac14",
   "metadata": {
    "scrolled": false
   },
   "outputs": [
    {
     "name": "stderr",
     "output_type": "stream",
     "text": [
      "C:\\Users\\JasonZhou\\anaconda3\\lib\\site-packages\\torch\\nn\\modules\\loss.py:520: UserWarning: Using a target size (torch.Size([50, 50, 86])) that is different to the input size (torch.Size([50, 1, 50, 86])). This will likely lead to incorrect results due to broadcasting. Please ensure they have the same size.\n",
      "  return F.mse_loss(input, target, reduction=self.reduction)\n"
     ]
    },
    {
     "name": "stdout",
     "output_type": "stream",
     "text": [
      "Epoch 0, Loss: 93.0482\n",
      "Epoch 1, Loss: 81.8604\n",
      "Epoch 2, Loss: 77.5229\n",
      "Epoch 3, Loss: 73.5105\n",
      "Epoch 4, Loss: 69.1820\n",
      "Epoch 5, Loss: 65.1417\n",
      "Epoch 6, Loss: 62.8355\n",
      "Epoch 7, Loss: 61.3433\n",
      "Epoch 8, Loss: 60.2632\n",
      "Epoch 9, Loss: 59.2318\n",
      "Epoch 10, Loss: 58.2074\n",
      "Epoch 11, Loss: 57.1804\n",
      "Epoch 12, Loss: 56.3883\n",
      "Epoch 13, Loss: 55.7704\n",
      "Epoch 14, Loss: 55.3122\n",
      "Epoch 15, Loss: 54.9210\n",
      "Epoch 16, Loss: 54.4798\n",
      "Epoch 17, Loss: 54.1906\n",
      "Epoch 18, Loss: 53.9878\n",
      "Epoch 19, Loss: 53.7938\n",
      "Epoch 20, Loss: 53.4858\n",
      "Epoch 21, Loss: 53.3365\n",
      "Epoch 22, Loss: 53.1732\n",
      "Epoch 23, Loss: 52.9584\n",
      "Epoch 24, Loss: 52.7297\n",
      "Epoch 25, Loss: 52.6275\n",
      "Epoch 26, Loss: 52.5047\n",
      "Epoch 27, Loss: 52.3898\n",
      "Epoch 28, Loss: 52.3630\n",
      "Epoch 29, Loss: 52.3178\n",
      "Epoch 30, Loss: 52.2842\n",
      "Epoch 31, Loss: 52.1988\n",
      "Epoch 32, Loss: 52.1670\n",
      "Epoch 33, Loss: 52.1382\n",
      "Epoch 34, Loss: 52.1168\n",
      "Epoch 35, Loss: 52.0887\n",
      "Epoch 36, Loss: 52.0675\n",
      "Epoch 37, Loss: 52.0275\n",
      "Epoch 38, Loss: 52.0101\n",
      "Epoch 39, Loss: 51.9947\n",
      "Epoch 40, Loss: 51.9710\n",
      "Epoch 41, Loss: 51.9511\n",
      "Epoch 42, Loss: 51.9259\n",
      "Epoch 43, Loss: 51.9054\n",
      "Epoch 44, Loss: 51.8864\n",
      "Epoch 45, Loss: 51.8731\n",
      "Epoch 46, Loss: 51.8701\n",
      "Epoch 47, Loss: 51.8387\n",
      "Epoch 48, Loss: 51.8177\n",
      "Epoch 49, Loss: 51.7926\n",
      "Epoch 50, Loss: 51.7708\n",
      "Epoch 51, Loss: 51.7439\n",
      "Epoch 52, Loss: 51.7263\n",
      "Epoch 53, Loss: 51.7040\n",
      "Epoch 54, Loss: 51.6800\n",
      "Epoch 55, Loss: 51.6545\n",
      "Epoch 56, Loss: 51.6365\n",
      "Epoch 57, Loss: 51.6163\n",
      "Epoch 58, Loss: 51.5996\n",
      "Epoch 59, Loss: 51.5842\n",
      "Epoch 60, Loss: 51.5693\n",
      "Epoch 61, Loss: 51.5538\n",
      "Epoch 62, Loss: 51.5386\n",
      "Epoch 63, Loss: 51.5272\n"
     ]
    },
    {
     "ename": "KeyboardInterrupt",
     "evalue": "",
     "output_type": "error",
     "traceback": [
      "\u001b[1;31m---------------------------------------------------------------------------\u001b[0m",
      "\u001b[1;31mKeyboardInterrupt\u001b[0m                         Traceback (most recent call last)",
      "\u001b[1;32m<ipython-input-13-2f04b618d7ad>\u001b[0m in \u001b[0;36m<module>\u001b[1;34m\u001b[0m\n\u001b[0;32m     15\u001b[0m \u001b[1;33m\u001b[0m\u001b[0m\n\u001b[0;32m     16\u001b[0m         \u001b[0moptimizer\u001b[0m\u001b[1;33m.\u001b[0m\u001b[0mzero_grad\u001b[0m\u001b[1;33m(\u001b[0m\u001b[1;33m)\u001b[0m\u001b[1;33m\u001b[0m\u001b[1;33m\u001b[0m\u001b[0m\n\u001b[1;32m---> 17\u001b[1;33m         \u001b[0mloss\u001b[0m\u001b[1;33m.\u001b[0m\u001b[0mbackward\u001b[0m\u001b[1;33m(\u001b[0m\u001b[1;33m)\u001b[0m\u001b[1;33m\u001b[0m\u001b[1;33m\u001b[0m\u001b[0m\n\u001b[0m\u001b[0;32m     18\u001b[0m         \u001b[0moptimizer\u001b[0m\u001b[1;33m.\u001b[0m\u001b[0mstep\u001b[0m\u001b[1;33m(\u001b[0m\u001b[1;33m)\u001b[0m\u001b[1;33m\u001b[0m\u001b[1;33m\u001b[0m\u001b[0m\n\u001b[0;32m     19\u001b[0m     \u001b[0moutputs\u001b[0m\u001b[1;33m.\u001b[0m\u001b[0mappend\u001b[0m\u001b[1;33m(\u001b[0m\u001b[1;33m(\u001b[0m\u001b[0mepoch\u001b[0m\u001b[1;33m,\u001b[0m \u001b[0moutput\u001b[0m\u001b[1;33m,\u001b[0m \u001b[0mbatched_training_data\u001b[0m\u001b[1;33m[\u001b[0m\u001b[0mi\u001b[0m\u001b[1;33m]\u001b[0m\u001b[1;33m)\u001b[0m\u001b[1;33m)\u001b[0m\u001b[1;33m\u001b[0m\u001b[1;33m\u001b[0m\u001b[0m\n",
      "\u001b[1;32m~\\anaconda3\\lib\\site-packages\\torch\\_tensor.py\u001b[0m in \u001b[0;36mbackward\u001b[1;34m(self, gradient, retain_graph, create_graph, inputs)\u001b[0m\n\u001b[0;32m    305\u001b[0m                 \u001b[0mcreate_graph\u001b[0m\u001b[1;33m=\u001b[0m\u001b[0mcreate_graph\u001b[0m\u001b[1;33m,\u001b[0m\u001b[1;33m\u001b[0m\u001b[1;33m\u001b[0m\u001b[0m\n\u001b[0;32m    306\u001b[0m                 inputs=inputs)\n\u001b[1;32m--> 307\u001b[1;33m         \u001b[0mtorch\u001b[0m\u001b[1;33m.\u001b[0m\u001b[0mautograd\u001b[0m\u001b[1;33m.\u001b[0m\u001b[0mbackward\u001b[0m\u001b[1;33m(\u001b[0m\u001b[0mself\u001b[0m\u001b[1;33m,\u001b[0m \u001b[0mgradient\u001b[0m\u001b[1;33m,\u001b[0m \u001b[0mretain_graph\u001b[0m\u001b[1;33m,\u001b[0m \u001b[0mcreate_graph\u001b[0m\u001b[1;33m,\u001b[0m \u001b[0minputs\u001b[0m\u001b[1;33m=\u001b[0m\u001b[0minputs\u001b[0m\u001b[1;33m)\u001b[0m\u001b[1;33m\u001b[0m\u001b[1;33m\u001b[0m\u001b[0m\n\u001b[0m\u001b[0;32m    308\u001b[0m \u001b[1;33m\u001b[0m\u001b[0m\n\u001b[0;32m    309\u001b[0m     \u001b[1;32mdef\u001b[0m \u001b[0mregister_hook\u001b[0m\u001b[1;33m(\u001b[0m\u001b[0mself\u001b[0m\u001b[1;33m,\u001b[0m \u001b[0mhook\u001b[0m\u001b[1;33m)\u001b[0m\u001b[1;33m:\u001b[0m\u001b[1;33m\u001b[0m\u001b[1;33m\u001b[0m\u001b[0m\n",
      "\u001b[1;32m~\\anaconda3\\lib\\site-packages\\torch\\autograd\\__init__.py\u001b[0m in \u001b[0;36mbackward\u001b[1;34m(tensors, grad_tensors, retain_graph, create_graph, grad_variables, inputs)\u001b[0m\n\u001b[0;32m    152\u001b[0m         \u001b[0mretain_graph\u001b[0m \u001b[1;33m=\u001b[0m \u001b[0mcreate_graph\u001b[0m\u001b[1;33m\u001b[0m\u001b[1;33m\u001b[0m\u001b[0m\n\u001b[0;32m    153\u001b[0m \u001b[1;33m\u001b[0m\u001b[0m\n\u001b[1;32m--> 154\u001b[1;33m     Variable._execution_engine.run_backward(\n\u001b[0m\u001b[0;32m    155\u001b[0m         \u001b[0mtensors\u001b[0m\u001b[1;33m,\u001b[0m \u001b[0mgrad_tensors_\u001b[0m\u001b[1;33m,\u001b[0m \u001b[0mretain_graph\u001b[0m\u001b[1;33m,\u001b[0m \u001b[0mcreate_graph\u001b[0m\u001b[1;33m,\u001b[0m \u001b[0minputs\u001b[0m\u001b[1;33m,\u001b[0m\u001b[1;33m\u001b[0m\u001b[1;33m\u001b[0m\u001b[0m\n\u001b[0;32m    156\u001b[0m         allow_unreachable=True, accumulate_grad=True)  # allow_unreachable flag\n",
      "\u001b[1;31mKeyboardInterrupt\u001b[0m: "
     ]
    }
   ],
   "source": [
    "#training\n",
    "\n",
    "model = CAE()\n",
    "criterion = nn.MSELoss()\n",
    "optimizer = optim.Adam(model.parameters(), lr = 0.0001)\n",
    "\n",
    "NUM_OF_EPOCH = 100\n",
    "\n",
    "outputs = []\n",
    "\n",
    "for epoch in range(NUM_OF_EPOCH):\n",
    "    for i in range(len(batched_training_data)):\n",
    "        output = model(batched_training_data[i].view(-1,1,50,86))\n",
    "        loss = criterion(output, batched_training_data[i])\n",
    "    \n",
    "        optimizer.zero_grad()\n",
    "        loss.backward()\n",
    "        optimizer.step()\n",
    "    outputs.append((epoch, output, batched_training_data[i]))\n",
    "    print(f'Epoch {epoch}, Loss: {loss.item():.4f}')"
   ]
  },
  {
   "cell_type": "code",
   "execution_count": null,
   "id": "d79e10d4",
   "metadata": {},
   "outputs": [],
   "source": [
    "import pickle\n",
    "\n",
    "filename = 'model_14.pt'\n",
    "pickle.dump(model, open(filename, 'wb'))"
   ]
  },
  {
   "cell_type": "code",
   "execution_count": null,
   "id": "9e69d2f7",
   "metadata": {},
   "outputs": [],
   "source": [
    "# model_5 = pickle.load(open('model_5.pt', 'rb'))"
   ]
  },
  {
   "cell_type": "code",
   "execution_count": null,
   "id": "2fdf64ed",
   "metadata": {},
   "outputs": [],
   "source": [
    "# testWindows[0].shape"
   ]
  },
  {
   "cell_type": "code",
   "execution_count": null,
   "id": "58b0b12e",
   "metadata": {},
   "outputs": [],
   "source": [
    "model = pickle.load(open('model_14.pt','rb'))\n",
    "a = 0\n",
    "output = model(torch.from_numpy(testWindows[a].reshape(-1,1,50,86)).type(torch.float32))\n",
    "output2 = model(torch.from_numpy(testWindows[2000].reshape(-1,1,50,86)).type(torch.float32))"
   ]
  },
  {
   "cell_type": "code",
   "execution_count": null,
   "id": "27713f74",
   "metadata": {},
   "outputs": [],
   "source": [
    "plt.figure(figsize=(25,10))\n",
    "librosa.display.specshow(output.view(50,86).detach().numpy(), x_axis = \"time\", y_axis = \"mel\", sr=22050)\n",
    "\n",
    "plt.colorbar(format=\"%+2.f\")\n",
    "plt.show()"
   ]
  },
  {
   "cell_type": "code",
   "execution_count": null,
   "id": "7168c0d1",
   "metadata": {},
   "outputs": [],
   "source": [
    "plt.figure(figsize=(25,10))\n",
    "librosa.display.specshow(testWindows[a].reshape(50,86), x_axis = \"time\", y_axis = \"mel\", sr=22050)\n",
    "\n",
    "plt.colorbar(format=\"%+2.f\")\n",
    "plt.show()"
   ]
  },
  {
   "cell_type": "code",
   "execution_count": null,
   "id": "f44f8581",
   "metadata": {},
   "outputs": [],
   "source": [
    "# plt.figure(figsize=(25,10))\n",
    "# librosa.display.specshow(testing_data[0], x_axis = \"time\", y_axis = \"mel\", sr=22050)\n",
    "\n",
    "# plt.colorbar(format=\"%+2.f\")\n",
    "# plt.show()"
   ]
  }
 ],
 "metadata": {
  "kernelspec": {
   "display_name": "Python 3",
   "language": "python",
   "name": "python3"
  },
  "language_info": {
   "codemirror_mode": {
    "name": "ipython",
    "version": 3
   },
   "file_extension": ".py",
   "mimetype": "text/x-python",
   "name": "python",
   "nbconvert_exporter": "python",
   "pygments_lexer": "ipython3",
   "version": "3.8.8"
  }
 },
 "nbformat": 4,
 "nbformat_minor": 5
}
