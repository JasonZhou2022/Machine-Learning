{
 "cells": [
  {
   "cell_type": "code",
   "execution_count": 1,
   "id": "6049d3c5",
   "metadata": {},
   "outputs": [],
   "source": [
    "import numpy as np\n",
    "import torch\n",
    "import matplotlib.pyplot as plt\n",
    "import torchvision\n",
    "from torchvision import transforms\n",
    "import torch.nn as nn\n",
    "import torch.nn.functional as F\n",
    "import torch.optim as optim\n",
    "import tqdm\n",
    "from tqdm import tqdm\n",
    "import librosa\n",
    "import librosa.display\n",
    "import IPython.display as ipd\n",
    "\n",
    "import random"
   ]
  },
  {
   "cell_type": "code",
   "execution_count": 2,
   "id": "1997f91b",
   "metadata": {
    "scrolled": true
   },
   "outputs": [],
   "source": [
    "#loading data\n",
    "data = np.load(\"normalizedCutDATA.npy\")"
   ]
  },
  {
   "cell_type": "code",
   "execution_count": 3,
   "id": "d6f6cd1e",
   "metadata": {},
   "outputs": [],
   "source": [
    "#taking a sample size of 10,000\n",
    "#8:2 split (training_data:testing_data ratio)\n",
    "np.random.shuffle(data)\n",
    "training_data = data[:8000] #length of 8000\n",
    "testing_data = data[8000:10000] #length of 2000"
   ]
  },
  {
   "cell_type": "code",
   "execution_count": 4,
   "id": "0f7f0b9c",
   "metadata": {},
   "outputs": [],
   "source": [
    "transform = transforms.ToTensor()"
   ]
  },
  {
   "cell_type": "code",
   "execution_count": 5,
   "id": "fd26e191",
   "metadata": {},
   "outputs": [],
   "source": [
    "class CAE(nn.Module):\n",
    "    def __init__(self):\n",
    "        super().__init__()\n",
    "        \n",
    "        self.encoder = nn.Sequential( #starting size: (10,474)\n",
    "            nn.Conv2d(1,32,(2,3)), #input: 10, 474 -> 9,472\n",
    "            nn.ReLU(),\n",
    "            nn.MaxPool2d(2),\n",
    "            nn.Conv2d(32,64,(2,3)), #input: 4, 236 -> 3,234\n",
    "            nn.ReLU(),\n",
    "            nn.BatchNorm2d(64),\n",
    "            nn.MaxPool2d(2) #input: 3, 234 -> 1, 117\n",
    "            #final: 1, 117\n",
    "        )\n",
    "        \n",
    "        self.decoder = nn.Sequential(\n",
    "            nn.ConvTranspose2d(64, 32, 3, stride=2), #input: 1,117 -> 3,235\n",
    "            nn.ReLU(),\n",
    "            nn.ConvTranspose2d(32, 1, 6, stride=2), #input: 3, 235 -> 10,474\n",
    "            \n",
    "            #final: 10,474\n",
    "        )\n",
    "        \n",
    "    def forward(self,x):\n",
    "        x = self.encoder(x)\n",
    "        x=self.decoder(x)\n",
    "        return x"
   ]
  },
  {
   "cell_type": "code",
   "execution_count": 6,
   "id": "fda8e776",
   "metadata": {},
   "outputs": [
    {
     "name": "stdout",
     "output_type": "stream",
     "text": [
      "0\n",
      "Shape: 250, 32\n"
     ]
    }
   ],
   "source": [
    "#creating the batches\n",
    "\n",
    "BATCH_SIZE = 32\n",
    "BATCHES = []\n",
    "\n",
    "copy = training_data.tolist()\n",
    "\n",
    "iterations = int((len(copy))/BATCH_SIZE)\n",
    "for i in range(iterations):\n",
    "    start = random.randint(0, len(copy) - BATCH_SIZE)\n",
    "    end = start + BATCH_SIZE\n",
    "    batch = copy[start:end]\n",
    "    BATCHES.append(batch)\n",
    "    copy = copy[:start] + copy[end:] #taking out the batch from the training_data\n",
    "    #to prevent duplicate numbers from appearing across batches\n",
    "   \n",
    "print(len(copy))\n",
    "print(f'Shape: {len(BATCHES)}, {len(BATCHES[0])}')"
   ]
  },
  {
   "cell_type": "code",
   "execution_count": 7,
   "id": "b1ac96f7",
   "metadata": {},
   "outputs": [],
   "source": [
    "#converting the python list to tensor\n",
    "\n",
    "batched_training_data = np.array(BATCHES)\n",
    "batched_training_data = torch.from_numpy(batched_training_data).type(torch.float32)"
   ]
  },
  {
   "cell_type": "code",
   "execution_count": 8,
   "id": "74b30739",
   "metadata": {
    "scrolled": true
   },
   "outputs": [
    {
     "ename": "RuntimeError",
     "evalue": "shape '[-1, 1, 10, 474]' is invalid for input of size 137920",
     "output_type": "error",
     "traceback": [
      "\u001b[1;31m---------------------------------------------------------------------------\u001b[0m",
      "\u001b[1;31mRuntimeError\u001b[0m                              Traceback (most recent call last)",
      "\u001b[1;32m<ipython-input-8-0b9f14fd772e>\u001b[0m in \u001b[0;36m<module>\u001b[1;34m\u001b[0m\n\u001b[0;32m     11\u001b[0m \u001b[1;32mfor\u001b[0m \u001b[0mepoch\u001b[0m \u001b[1;32min\u001b[0m \u001b[0mrange\u001b[0m\u001b[1;33m(\u001b[0m\u001b[0mNUM_OF_EPOCH\u001b[0m\u001b[1;33m)\u001b[0m\u001b[1;33m:\u001b[0m\u001b[1;33m\u001b[0m\u001b[1;33m\u001b[0m\u001b[0m\n\u001b[0;32m     12\u001b[0m     \u001b[1;32mfor\u001b[0m \u001b[0mi\u001b[0m \u001b[1;32min\u001b[0m \u001b[0mrange\u001b[0m\u001b[1;33m(\u001b[0m\u001b[0mlen\u001b[0m\u001b[1;33m(\u001b[0m\u001b[0mbatched_training_data\u001b[0m\u001b[1;33m)\u001b[0m\u001b[1;33m)\u001b[0m\u001b[1;33m:\u001b[0m\u001b[1;33m\u001b[0m\u001b[1;33m\u001b[0m\u001b[0m\n\u001b[1;32m---> 13\u001b[1;33m         \u001b[0moutput\u001b[0m \u001b[1;33m=\u001b[0m \u001b[0mmodel\u001b[0m\u001b[1;33m(\u001b[0m\u001b[0mbatched_training_data\u001b[0m\u001b[1;33m[\u001b[0m\u001b[0mi\u001b[0m\u001b[1;33m]\u001b[0m\u001b[1;33m.\u001b[0m\u001b[0mview\u001b[0m\u001b[1;33m(\u001b[0m\u001b[1;33m-\u001b[0m\u001b[1;36m1\u001b[0m\u001b[1;33m,\u001b[0m\u001b[1;36m1\u001b[0m\u001b[1;33m,\u001b[0m\u001b[1;36m10\u001b[0m\u001b[1;33m,\u001b[0m\u001b[1;36m474\u001b[0m\u001b[1;33m)\u001b[0m\u001b[1;33m)\u001b[0m\u001b[1;33m\u001b[0m\u001b[1;33m\u001b[0m\u001b[0m\n\u001b[0m\u001b[0;32m     14\u001b[0m         \u001b[0mloss\u001b[0m \u001b[1;33m=\u001b[0m \u001b[0mcriterion\u001b[0m\u001b[1;33m(\u001b[0m\u001b[0moutput\u001b[0m\u001b[1;33m,\u001b[0m \u001b[0mbatched_training_data\u001b[0m\u001b[1;33m[\u001b[0m\u001b[0mi\u001b[0m\u001b[1;33m]\u001b[0m\u001b[1;33m)\u001b[0m\u001b[1;33m\u001b[0m\u001b[1;33m\u001b[0m\u001b[0m\n\u001b[0;32m     15\u001b[0m \u001b[1;33m\u001b[0m\u001b[0m\n",
      "\u001b[1;31mRuntimeError\u001b[0m: shape '[-1, 1, 10, 474]' is invalid for input of size 137920"
     ]
    }
   ],
   "source": [
    "#training\n",
    "\n",
    "model = CAE()\n",
    "criterion = nn.MSELoss()\n",
    "optimizer = optim.Adam(model.parameters(), lr = 0.0001)\n",
    "\n",
    "NUM_OF_EPOCH = 250\n",
    "\n",
    "outputs = []\n",
    "\n",
    "for epoch in range(NUM_OF_EPOCH):\n",
    "    for i in range(len(batched_training_data)):\n",
    "        output = model(batched_training_data[i].view(-1,1,10,474))\n",
    "        loss = criterion(output, batched_training_data[i])\n",
    "    \n",
    "        optimizer.zero_grad()\n",
    "        loss.backward()\n",
    "        optimizer.step()\n",
    "    outputs.append((epoch, output, batched_training_data[i]))\n",
    "    print(f'Epoch {epoch}, Loss: {loss.item():.4f}')"
   ]
  },
  {
   "cell_type": "code",
   "execution_count": null,
   "id": "812acd03",
   "metadata": {},
   "outputs": [],
   "source": [
    "# len(batched_training_data)"
   ]
  },
  {
   "cell_type": "code",
   "execution_count": null,
   "id": "39bd260e",
   "metadata": {},
   "outputs": [],
   "source": [
    "t = np.load(\"control.npy\")\n",
    "mspecTensor = torch.from_numpy(t)\n",
    "mspecTensor = model(mspecTensor.view(-1,1,10,474))\n",
    "show = (t, mspecTensor)\n",
    "\n",
    "plt.figure(figsize=(25,10))\n",
    "librosa.display.specshow(show[0], x_axis = \"time\", y_axis = \"mel\", sr=22050)\n",
    "#librosa.display.specshow(show[0].view(10,474).detach().numpy(), x_axis = \"time\", y_axis = \"mel\", sr=22050)\n",
    "\n",
    "plt.colorbar(format=\"%+2.f\")\n",
    "plt.show()"
   ]
  },
  {
   "cell_type": "code",
   "execution_count": null,
   "id": "a3fe8100",
   "metadata": {},
   "outputs": [],
   "source": [
    "# show[0]"
   ]
  },
  {
   "cell_type": "code",
   "execution_count": null,
   "id": "0cc40313",
   "metadata": {},
   "outputs": [],
   "source": [
    "plt.figure(figsize=(25,10))\n",
    "#librosa.display.specshow(show[0], x_axis = \"time\", y_axis = \"mel\", sr=22050)\n",
    "librosa.display.specshow(show[1].view(10,474).detach().numpy(), x_axis = \"time\", y_axis = \"mel\", sr=22050)\n",
    "\n",
    "plt.colorbar(format=\"%+2.f\")\n",
    "plt.show()"
   ]
  },
  {
   "cell_type": "code",
   "execution_count": null,
   "id": "f87c9b8a",
   "metadata": {},
   "outputs": [],
   "source": [
    "np.save(\"controlResult4.npy\", show[1].detach().numpy())"
   ]
  },
  {
   "cell_type": "code",
   "execution_count": null,
   "id": "43c25eb9",
   "metadata": {},
   "outputs": [],
   "source": [
    "controlResult = np.load(\"controlResult.npy\")\n",
    "plt.figure(figsize=(25,10))\n",
    "librosa.display.specshow(controlResult.reshape(10,474), x_axis = \"time\", y_axis = \"mel\", sr=22050)\n",
    "\n",
    "plt.colorbar(format=\"%+2.f\")\n",
    "plt.show()"
   ]
  },
  {
   "cell_type": "code",
   "execution_count": null,
   "id": "c2e9521e",
   "metadata": {},
   "outputs": [],
   "source": [
    "#might as well save what I have done\n",
    "\n",
    "# path = \"C:\\\\Users\\\\JasonZhou\\\\Models\"\n",
    "# torch.save(model, path)\n",
    "\n",
    "import pickle\n",
    "\n",
    "filename = 'model_7.pt'\n",
    "pickle.dump(model, open(filename, 'wb'))"
   ]
  },
  {
   "cell_type": "code",
   "execution_count": null,
   "id": "a723ecf2",
   "metadata": {},
   "outputs": [],
   "source": [
    "# controlResult = np.load(\"controlResult.npy\")\n",
    "plt.figure(figsize=(25,10))\n",
    "librosa.display.specshow(testing_data[0].reshape(10,474), x_axis = \"time\", y_axis = \"mel\", sr=22050)\n",
    "\n",
    "plt.colorbar(format=\"%+2.f\")\n",
    "plt.show()"
   ]
  },
  {
   "cell_type": "code",
   "execution_count": null,
   "id": "be5524ec",
   "metadata": {
    "scrolled": false
   },
   "outputs": [],
   "source": [
    "o = torch.from_numpy(testing_data[0])\n",
    "o = model(o.view(-1,1,10,474))\n",
    "plt.figure(figsize=(25,10))\n",
    "librosa.display.specshow(o.view(10,474).detach().numpy(), x_axis = \"time\", y_axis = \"mel\", sr=22050)\n",
    "\n",
    "plt.colorbar(format=\"%+2.f\")\n",
    "plt.show()"
   ]
  }
 ],
 "metadata": {
  "kernelspec": {
   "display_name": "Python 3",
   "language": "python",
   "name": "python3"
  },
  "language_info": {
   "codemirror_mode": {
    "name": "ipython",
    "version": 3
   },
   "file_extension": ".py",
   "mimetype": "text/x-python",
   "name": "python",
   "nbconvert_exporter": "python",
   "pygments_lexer": "ipython3",
   "version": "3.8.8"
  }
 },
 "nbformat": 4,
 "nbformat_minor": 5
}
